{
  "nbformat": 4,
  "nbformat_minor": 0,
  "metadata": {
    "colab": {
      "name": "DEMO_SimpleDetour.ipynb",
      "provenance": [],
      "authorship_tag": "ABX9TyMZmuTPbLbWWVYsggIbIbu1",
      "include_colab_link": true
    },
    "kernelspec": {
      "name": "python3",
      "display_name": "Python 3"
    },
    "language_info": {
      "name": "python"
    }
  },
  "cells": [
    {
      "cell_type": "markdown",
      "metadata": {
        "id": "view-in-github",
        "colab_type": "text"
      },
      "source": [
        "<a href=\"https://colab.research.google.com/github/Hironobu-Kawaguchi/HappyRedHair/blob/main/DEMO_SimpleDetour.ipynb\" target=\"_parent\"><img src=\"https://colab.research.google.com/assets/colab-badge.svg\" alt=\"Open In Colab\"/></a>"
      ]
    },
    {
      "cell_type": "code",
      "source": [
        "# matplotlibで日本語を使うためのもの\n",
        "!pip install japanize-matplotlib"
      ],
      "metadata": {
        "id": "O_8klqZfpWXP"
      },
      "execution_count": null,
      "outputs": []
    },
    {
      "cell_type": "code",
      "execution_count": null,
      "metadata": {
        "id": "mvEFIPjwLAjX"
      },
      "outputs": [],
      "source": [
        "import numpy as np\n",
        "import matplotlib.pyplot as plt\n",
        "import pandas as pd\n",
        "import japanize_matplotlib"
      ]
    },
    {
      "cell_type": "code",
      "source": [
        "# 20個のスポットに対応する点を疑似的に作る\n",
        "np.random.seed(1)\n",
        "x_array = np.random.randint(0, 5000, 20)\n",
        "y_array = np.random.randint(0, 5000, 20)"
      ],
      "metadata": {
        "id": "U6IXupqTSLKc"
      },
      "execution_count": null,
      "outputs": []
    },
    {
      "cell_type": "code",
      "source": [
        "# 各スポットの情報\n",
        "spot_list = ['カフェ0', 'カフェ1', 'カフェ2', 'カフェ3', 'カフェ4', \n",
        "             'カフェ5', 'カフェ6', 'カフェ7', 'カフェ8', 'カフェ9', \n",
        "             'パン屋0', 'パン屋1', 'パン屋2', 'パン屋3', 'パン屋4', \n",
        "             'パン屋5', 'パン屋6', 'パン屋7', 'パン屋8', 'パン屋9']\n",
        "\n",
        "# どんな目的でそのスポットを利用するか\n",
        "purpose_list = ['ゆっくり', 'ゆっくり', 'ゆっくり', 'ゆっくり', 'ゆっくり', \n",
        "                'ゆっくり', 'ゆっくり', 'ゆっくり', 'ゆっくり', 'ゆっくり', \n",
        "                'ゆっくり', 'ゆっくり', 'ゆっくり', 'ゆっくり', 'ゆっくり', \n",
        "                'ゆっくり', 'ゆっくり', 'ゆっくり', 'ゆっくり', 'ゆっくり']\n",
        "\n",
        "# そのスポットの雰囲気はどうか\n",
        "mood_list = ['静か', '静か', '静か', '静か', '静か', \n",
        "             '静か', '静か', '静か', '静か', '静か', \n",
        "             '静か', '静か', '静か', '静か', '静か', \n",
        "             '静か', '静か', '静か', '静か', '静か']\n",
        "\n",
        "# そのスポットの平均滞在時間\n",
        "time_list = [30, 60, 25, 20, 30, \n",
        "             30, 45, 30, 30, 45, \n",
        "             20, 15, 10, 10, 15, \n",
        "             15, 20, 15, 15, 10]\n",
        "\n",
        "# そのスポットからのコメントや情報\n",
        "comment_list = ['ケーキが余っています', 'ショートケーキ3個', 'モンブラン1個', '感染対策バッチリ', '紅茶と相性バッチリなモンブラン', \n",
        "                'ケーキ売れるまで閉めません', '瀧先生います', '自家製コーヒー', 'あの長谷川選手のお気に入り！', 'この街がスマートになる前からやっています', \n",
        "                'アンパンマンパンはパンなん？', '軽食にいかが？', 'サンドイッチが最高', '結構余ってます', '一番人気はメロンパン！', \n",
        "                'あんぱんがおすすめ！', '雰囲気いい', '高級食パンおいてます', 'あと3個です', 'テイクアウト専用']"
      ],
      "metadata": {
        "id": "0p3TNuYrLQlc"
      },
      "execution_count": null,
      "outputs": []
    },
    {
      "cell_type": "code",
      "source": [
        "# 2地点間の距離やかかる時間を計算する関数\n",
        "def culc_minute(my_x, my_y):\n",
        "    distance_array = np.sqrt((x_array - my_x)**2 + (y_array - my_y)**2)\n",
        "    minute_array = np.round(distance_array / 125)\n",
        "\n",
        "    possible_array = np.array(time_list) - minute_array*2\n",
        "    return minute_array.astype(int), possible_array.astype(int)\n",
        "\n",
        "# メインの関数    \n",
        "def Detour():\n",
        "    print(\"現在地 x (0<x<5000)を入力してください．\")\n",
        "    from_x = int(input())\n",
        "\n",
        "    print(\"\\n現在地 y (0<y<5000)を入力してください．\")\n",
        "    from_y = int(input())\n",
        "\n",
        "    print(\"\\n目的地 x (0<x<5000)を入力してください．\")\n",
        "    to_x = int(input())\n",
        "\n",
        "    print(\"\\n目的地 y (0<y<5000)を入力してください．\")\n",
        "    to_y = int(input())\n",
        "\n",
        "    print(\"\\n空き時間（分）を入力してください．\")\n",
        "    my_time = float(input())\n",
        "\n",
        "    print(\"\\n目的を ['ゆっくり', '食事'] から選択してください（デモでは「ゆっくり」のみ動作します）．\")\n",
        "    my_purpose = input()\n",
        "\n",
        "    print(\"\\n気分を ['静か', '賑やか'] から選択してください（デモでは「静か」のみ動作します）．\")\n",
        "    my_mood = input()\n",
        "\n",
        "    from_minute_array, from_possible_array = culc_minute(from_x, from_y)\n",
        "    to_minute_array, to_possible_array = culc_minute(to_x, to_y)\n",
        "\n",
        "    df_all = pd.DataFrame(list(zip(spot_list, from_minute_array, to_minute_array, purpose_list, mood_list, time_list, comment_list)), columns = ['spot', 'here_to_spot', 'spot_to_distination', 'purpose', 'mood', 'time', 'comment'])\n",
        "\n",
        "    df_candidate = df_all[(df_all['purpose'] == my_purpose) & (df_all['mood'] == my_mood) & (df_all['here_to_spot'] + df_all['time'] + df_all['spot_to_distination'] <= my_time)]\n",
        "\n",
        "    selected_list = df_candidate.index.tolist()\n",
        "    \n",
        "    if len(selected_list) == 0:\n",
        "        print('利用可能なスポットがありません．')\n",
        "\n",
        "    plt.figure(figsize=(7, 7))\n",
        "\n",
        "    for i in range(len(selected_list)):\n",
        "        plt.plot([from_x, x_array[selected_list[i]]], [from_y, y_array[selected_list[i]]], c='blue')\n",
        "        plt.plot([to_x, x_array[selected_list[i]]], [to_y, y_array[selected_list[i]]], c='blue')\n",
        "        plt.text(x_array[selected_list[i]]+100, y_array[selected_list[i]]+100, \"{}（お店からのコメント:{}）\".format(df_candidate.loc[selected_list[i], \"spot\"], df_candidate.loc[selected_list[i], \"comment\"]))\n",
        "    \n",
        "    plt.scatter(from_x, from_y, c='red', s=100)\n",
        "    plt.scatter(to_x, to_y, c='green', s=100)\n",
        "    plt.scatter(x_array, y_array, c='skyblue', s=50)\n",
        "    plt.scatter(x_array[selected_list], y_array[selected_list], c='darkorange', s=100)\n",
        "    \n",
        "    plt.xlim(-500, 5500)\n",
        "    plt.ylim(-500, 5500)\n",
        "    plt.grid(True)\n",
        "    plt.show()"
      ],
      "metadata": {
        "id": "HslszpLCnrst"
      },
      "execution_count": null,
      "outputs": []
    },
    {
      "cell_type": "code",
      "source": [
        "Detour()"
      ],
      "metadata": {
        "id": "N8ZtkSryrFmy"
      },
      "execution_count": null,
      "outputs": []
    }
  ]
}