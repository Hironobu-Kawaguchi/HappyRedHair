{
  "cells": [
    {
      "cell_type": "markdown",
      "metadata": {
        "id": "view-in-github",
        "colab_type": "text"
      },
      "source": [
        "<a href=\"https://colab.research.google.com/github/Hironobu-Kawaguchi/HappyRedHair/blob/main/POI_NMF.ipynb\" target=\"_parent\"><img src=\"https://colab.research.google.com/assets/colab-badge.svg\" alt=\"Open In Colab\"/></a>"
      ]
    },
    {
      "cell_type": "code",
      "execution_count": null,
      "metadata": {
        "id": "04BwV1G7bkm9"
      },
      "outputs": [],
      "source": [
        "import numpy as np\n",
        "import matplotlib.pyplot as plt\n",
        "\n",
        "\n",
        "####### DEMO_SimpleDetourコードからの入力情報と返り値(推論時)######\n",
        "\n",
        "# User ID ユーザーの識別番号\n",
        "USER_ID = 1\n",
        "# 空き時間と現在地等によって選ばれた候補地\n",
        "selected_list = [1,3,4,7,10,14,15,18]"
      ]
    },
    {
      "cell_type": "code",
      "execution_count": null,
      "metadata": {
        "id": "Lab7_OZNbkm_",
        "outputId": "0f27738d-82ea-4181-de82-6009a23834fa"
      },
      "outputs": [
        {
          "name": "stdout",
          "output_type": "stream",
          "text": [
            "[[1. 0. 1. 1. 1. 1. 0. 0. 0. 0. 0. 1. 1. 0. 1. 0. 0. 1. 1. 0.]\n",
            " [0. 1. 1. 0. 1. 1. 1. 1. 1. 0. 0. 1. 1. 0. 1. 0. 0. 0. 1. 0.]\n",
            " [0. 0. 1. 0. 1. 1. 1. 1. 0. 1. 1. 1. 1. 0. 0. 0. 1. 1. 1. 1.]\n",
            " [0. 1. 0. 0. 0. 1. 1. 1. 0. 0. 0. 1. 1. 0. 1. 1. 0. 0. 0. 0.]\n",
            " [1. 1. 0. 0. 1. 1. 0. 0. 1. 1. 0. 1. 0. 1. 0. 0. 1. 1. 0. 1.]\n",
            " [1. 1. 1. 0. 0. 0. 0. 1. 1. 1. 1. 0. 0. 1. 0. 1. 1. 1. 1. 0.]\n",
            " [0. 1. 1. 0. 0. 0. 0. 1. 1. 0. 1. 1. 1. 0. 0. 0. 0. 1. 1. 0.]\n",
            " [1. 1. 0. 1. 0. 1. 0. 0. 1. 1. 1. 1. 1. 1. 1. 1. 1. 0. 1. 1.]\n",
            " [0. 1. 0. 0. 0. 0. 0. 0. 0. 0. 1. 1. 1. 1. 0. 1. 0. 1. 0. 1.]\n",
            " [0. 0. 0. 1. 0. 0. 1. 1. 0. 0. 1. 1. 1. 1. 1. 0. 0. 1. 1. 0.]\n",
            " [0. 1. 0. 0. 0. 1. 0. 1. 1. 0. 1. 0. 1. 0. 0. 0. 0. 0. 1. 1.]\n",
            " [1. 0. 0. 0. 0. 1. 0. 1. 0. 0. 1. 0. 0. 0. 0. 1. 1. 0. 0. 1.]\n",
            " [1. 1. 0. 0. 0. 0. 0. 1. 0. 1. 1. 0. 1. 1. 0. 1. 1. 0. 0. 0.]\n",
            " [0. 1. 1. 1. 0. 1. 0. 0. 1. 0. 1. 0. 0. 0. 1. 1. 1. 1. 0. 1.]\n",
            " [0. 1. 0. 1. 1. 0. 0. 0. 0. 0. 0. 0. 0. 0. 0. 0. 0. 0. 1. 1.]\n",
            " [0. 1. 0. 0. 0. 1. 0. 0. 0. 1. 1. 1. 0. 1. 0. 0. 0. 1. 0. 0.]\n",
            " [0. 0. 1. 0. 1. 1. 1. 1. 1. 0. 1. 0. 0. 1. 1. 0. 0. 0. 1. 1.]\n",
            " [1. 0. 0. 1. 1. 1. 0. 1. 0. 0. 0. 0. 0. 0. 0. 1. 1. 0. 1. 1.]\n",
            " [0. 1. 1. 0. 1. 1. 1. 0. 1. 0. 0. 1. 0. 1. 0. 0. 1. 0. 1. 1.]\n",
            " [1. 1. 0. 0. 1. 0. 1. 1. 0. 1. 0. 1. 1. 0. 1. 1. 0. 1. 1. 0.]\n",
            " [1. 0. 0. 0. 0. 1. 0. 1. 0. 0. 1. 0. 1. 1. 0. 0. 0. 0. 0. 1.]\n",
            " [0. 0. 0. 0. 1. 1. 1. 1. 1. 1. 1. 1. 1. 0. 1. 0. 1. 1. 1. 1.]\n",
            " [0. 1. 1. 1. 0. 0. 0. 1. 1. 0. 0. 1. 1. 0. 0. 1. 0. 1. 1. 1.]\n",
            " [1. 0. 1. 1. 0. 0. 1. 1. 0. 0. 0. 0. 0. 0. 1. 0. 0. 1. 0. 0.]\n",
            " [1. 0. 0. 1. 0. 1. 1. 0. 1. 0. 1. 1. 0. 0. 1. 0. 0. 0. 0. 0.]\n",
            " [1. 0. 0. 0. 0. 1. 0. 0. 1. 1. 1. 1. 1. 1. 1. 0. 1. 0. 1. 1.]\n",
            " [1. 1. 1. 0. 1. 1. 1. 1. 1. 1. 0. 0. 1. 1. 0. 0. 0. 0. 1. 1.]\n",
            " [0. 0. 0. 0. 0. 1. 0. 0. 1. 1. 0. 0. 1. 1. 1. 0. 0. 1. 1. 0.]\n",
            " [1. 0. 1. 1. 0. 1. 1. 0. 1. 0. 1. 0. 1. 1. 1. 0. 1. 0. 0. 1.]\n",
            " [0. 1. 0. 0. 1. 0. 0. 1. 0. 0. 0. 0. 1. 0. 1. 0. 1. 0. 0. 1.]]\n",
            "Regard zero-elements as missing data '?' with probability p\n",
            "[[1.00000000e+00 6.35477319e-01 1.00000000e+00 1.00000000e+00\n",
            "  1.00000000e+00 1.00000000e+00 3.93876615e-01 2.49303260e-01\n",
            "  5.43250018e-01 7.59945896e-01 2.32566669e-01 1.00000000e+00\n",
            "  1.00000000e+00 5.30849770e-01 1.00000000e+00 2.11353485e-01\n",
            "  1.99927605e-01 1.00000000e+00 1.00000000e+00 8.24153081e-01]\n",
            " [1.56208724e-01 1.00000000e+00 1.00000000e+00 6.49614330e-01\n",
            "  1.00000000e+00 1.00000000e+00 1.00000000e+00 1.00000000e+00\n",
            "  1.00000000e+00 3.74747133e-01 2.38716479e-01 1.00000000e+00\n",
            "  1.00000000e+00 4.53695971e-01 1.00000000e+00 1.25966219e-02\n",
            "  5.78196030e-01 6.33197940e-01 1.00000000e+00 8.81909597e-01]\n",
            " [7.48205325e-02 0.00000000e+00 1.00000000e+00 1.38049025e-01\n",
            "  1.00000000e+00 1.00000000e+00 1.00000000e+00 1.00000000e+00\n",
            "  0.00000000e+00 1.00000000e+00 1.00000000e+00 1.00000000e+00\n",
            "  1.00000000e+00 5.04290644e-01 5.77866843e-01 8.29775231e-01\n",
            "  1.00000000e+00 1.00000000e+00 1.00000000e+00 1.00000000e+00]\n",
            " [1.17636966e-01 1.00000000e+00 8.02342755e-01 1.47025640e-01\n",
            "  1.78020702e-01 1.00000000e+00 1.00000000e+00 1.00000000e+00\n",
            "  8.57794457e-01 2.78996729e-01 8.99060732e-01 1.00000000e+00\n",
            "  1.00000000e+00 4.88813319e-01 1.00000000e+00 1.00000000e+00\n",
            "  1.75774991e-01 4.40262808e-01 0.00000000e+00 7.67158642e-01]\n",
            " [1.00000000e+00 1.00000000e+00 1.92591391e-01 9.28846149e-03\n",
            "  1.00000000e+00 1.00000000e+00 0.00000000e+00 1.64926921e-01\n",
            "  1.00000000e+00 1.00000000e+00 1.57154510e-02 1.00000000e+00\n",
            "  2.12169994e-01 1.00000000e+00 1.03225162e-01 1.89520292e-01\n",
            "  1.00000000e+00 1.00000000e+00 8.90804913e-01 1.00000000e+00]\n",
            " [1.00000000e+00 1.00000000e+00 1.00000000e+00 0.00000000e+00\n",
            "  7.99679947e-01 0.00000000e+00 0.00000000e+00 1.00000000e+00\n",
            "  1.00000000e+00 1.00000000e+00 1.00000000e+00 2.23163637e-01\n",
            "  2.44273350e-01 1.00000000e+00 7.29010593e-01 1.00000000e+00\n",
            "  1.00000000e+00 1.00000000e+00 1.00000000e+00 8.16325086e-01]\n",
            " [6.72394436e-01 1.00000000e+00 1.00000000e+00 4.02492941e-01\n",
            "  7.73140872e-01 4.12144417e-01 6.21061021e-01 1.00000000e+00\n",
            "  1.00000000e+00 2.37107971e-01 1.00000000e+00 1.00000000e+00\n",
            "  1.00000000e+00 8.02344801e-01 5.39506088e-01 5.29424025e-02\n",
            "  2.69718524e-01 1.00000000e+00 1.00000000e+00 1.55940241e-01]\n",
            " [1.00000000e+00 1.00000000e+00 5.96118427e-02 1.00000000e+00\n",
            "  1.15292403e-01 1.00000000e+00 7.92980110e-01 8.62053988e-01\n",
            "  1.00000000e+00 1.00000000e+00 1.00000000e+00 1.00000000e+00\n",
            "  1.00000000e+00 1.00000000e+00 1.00000000e+00 1.00000000e+00\n",
            "  1.00000000e+00 7.04068730e-01 1.00000000e+00 1.00000000e+00]\n",
            " [2.08885377e-01 1.00000000e+00 7.23544979e-01 0.00000000e+00\n",
            "  4.20087740e-01 0.00000000e+00 7.75207432e-02 0.00000000e+00\n",
            "  3.51035132e-01 8.87998547e-01 1.00000000e+00 1.00000000e+00\n",
            "  1.00000000e+00 1.00000000e+00 8.69022760e-01 1.00000000e+00\n",
            "  1.49296161e-02 1.00000000e+00 8.88991526e-02 1.00000000e+00]\n",
            " [8.20573248e-01 1.39811767e-01 1.27434134e-02 1.00000000e+00\n",
            "  7.87468338e-01 5.06471653e-01 1.00000000e+00 1.00000000e+00\n",
            "  1.54951240e-01 6.74744833e-01 1.00000000e+00 1.00000000e+00\n",
            "  1.00000000e+00 1.00000000e+00 1.00000000e+00 2.08125880e-01\n",
            "  8.96083920e-01 1.00000000e+00 1.00000000e+00 8.45315142e-01]\n",
            " [8.86754306e-01 1.00000000e+00 1.08461462e-01 2.41065491e-01\n",
            "  5.45201757e-01 1.00000000e+00 2.52807892e-01 1.00000000e+00\n",
            "  1.00000000e+00 4.75843460e-01 1.00000000e+00 1.94871033e-01\n",
            "  1.00000000e+00 1.70810648e-01 4.48061669e-01 7.78119250e-01\n",
            "  6.52680771e-01 7.94100521e-01 1.00000000e+00 1.00000000e+00]\n",
            " [1.00000000e+00 0.00000000e+00 0.00000000e+00 6.57076908e-02\n",
            "  6.11328688e-01 1.00000000e+00 8.24599063e-02 1.00000000e+00\n",
            "  2.69666755e-01 1.58299009e-01 1.00000000e+00 3.37799341e-01\n",
            "  4.43453079e-01 3.70189496e-01 2.88731408e-02 1.00000000e+00\n",
            "  1.00000000e+00 6.91179918e-01 3.24537142e-01 1.00000000e+00]\n",
            " [1.00000000e+00 1.00000000e+00 1.16655409e-01 6.68964062e-01\n",
            "  4.97924441e-01 4.56865857e-03 5.08684215e-01 1.00000000e+00\n",
            "  3.50039645e-01 1.00000000e+00 1.00000000e+00 7.63215378e-01\n",
            "  1.00000000e+00 1.00000000e+00 3.69199968e-01 1.00000000e+00\n",
            "  1.00000000e+00 4.36326257e-01 2.53746214e-01 5.79041137e-01]\n",
            " [6.34590266e-01 1.00000000e+00 1.00000000e+00 1.00000000e+00\n",
            "  1.61308836e-01 1.00000000e+00 7.92893347e-02 8.96323807e-01\n",
            "  1.00000000e+00 1.68009804e-01 1.00000000e+00 2.12609565e-01\n",
            "  8.41006727e-02 8.02400071e-01 1.00000000e+00 1.00000000e+00\n",
            "  1.00000000e+00 1.00000000e+00 3.34280653e-01 1.00000000e+00]\n",
            " [5.41154215e-01 1.00000000e+00 7.91430673e-02 1.00000000e+00\n",
            "  1.00000000e+00 5.54952725e-01 3.61173449e-02 6.32087382e-01\n",
            "  8.66245468e-01 3.67128119e-01 7.85603514e-01 3.83312007e-01\n",
            "  0.00000000e+00 5.02347778e-01 6.15031711e-02 3.21219503e-01\n",
            "  5.29489933e-01 2.60586671e-01 1.00000000e+00 1.00000000e+00]\n",
            " [1.43420886e-01 1.00000000e+00 6.60727441e-01 5.36758345e-01\n",
            "  8.89937212e-01 1.00000000e+00 4.30918390e-01 4.39306660e-01\n",
            "  6.55584713e-01 1.00000000e+00 1.00000000e+00 1.00000000e+00\n",
            "  4.44844483e-01 1.00000000e+00 4.72512373e-01 6.45342642e-01\n",
            "  1.59732145e-01 1.00000000e+00 2.80709915e-01 4.42743756e-01]\n",
            " [0.00000000e+00 2.96427152e-01 1.00000000e+00 4.67065057e-01\n",
            "  1.00000000e+00 1.00000000e+00 1.00000000e+00 1.00000000e+00\n",
            "  1.00000000e+00 0.00000000e+00 1.00000000e+00 8.50444669e-04\n",
            "  5.89845097e-01 1.00000000e+00 1.00000000e+00 7.03866074e-02\n",
            "  6.49194571e-01 6.62682327e-02 1.00000000e+00 1.00000000e+00]\n",
            " [1.00000000e+00 8.95218501e-01 1.40228475e-01 1.00000000e+00\n",
            "  1.00000000e+00 1.00000000e+00 4.49453300e-01 1.00000000e+00\n",
            "  2.10006931e-01 0.00000000e+00 8.60292501e-01 4.11783125e-01\n",
            "  4.55326174e-01 0.00000000e+00 7.73875855e-01 1.00000000e+00\n",
            "  1.00000000e+00 1.74316461e-01 1.00000000e+00 1.00000000e+00]\n",
            " [4.92120535e-01 1.00000000e+00 1.00000000e+00 4.41454610e-01\n",
            "  1.00000000e+00 1.00000000e+00 1.00000000e+00 0.00000000e+00\n",
            "  1.00000000e+00 1.97976578e-02 3.46525274e-02 1.00000000e+00\n",
            "  3.79487489e-01 1.00000000e+00 2.15581851e-01 6.75209762e-01\n",
            "  1.00000000e+00 0.00000000e+00 1.00000000e+00 1.00000000e+00]\n",
            " [1.00000000e+00 1.00000000e+00 3.17829863e-01 1.91626276e-01\n",
            "  1.00000000e+00 5.91398122e-01 1.00000000e+00 1.00000000e+00\n",
            "  0.00000000e+00 1.00000000e+00 3.19229695e-01 1.00000000e+00\n",
            "  1.00000000e+00 6.31419563e-01 1.00000000e+00 1.00000000e+00\n",
            "  4.30914621e-01 1.00000000e+00 1.00000000e+00 5.37183857e-01]\n",
            " [1.00000000e+00 6.63552977e-01 8.59192163e-01 2.35624209e-01\n",
            "  4.85313959e-01 1.00000000e+00 8.57158929e-01 1.00000000e+00\n",
            "  2.02608909e-01 1.61582218e-01 1.00000000e+00 4.40985568e-01\n",
            "  1.00000000e+00 1.00000000e+00 8.81748112e-01 0.00000000e+00\n",
            "  8.05427869e-01 7.90521480e-01 0.00000000e+00 1.00000000e+00]\n",
            " [1.93133595e-01 6.48494302e-01 6.20625579e-03 8.67206151e-01\n",
            "  1.00000000e+00 1.00000000e+00 1.00000000e+00 1.00000000e+00\n",
            "  1.00000000e+00 1.00000000e+00 1.00000000e+00 1.00000000e+00\n",
            "  1.00000000e+00 6.28611840e-01 1.00000000e+00 5.75856041e-01\n",
            "  1.00000000e+00 1.00000000e+00 1.00000000e+00 1.00000000e+00]\n",
            " [1.28653904e-01 1.00000000e+00 1.00000000e+00 1.00000000e+00\n",
            "  3.78868271e-01 0.00000000e+00 7.85870627e-01 1.00000000e+00\n",
            "  1.00000000e+00 7.39305120e-01 6.53965186e-01 1.00000000e+00\n",
            "  1.00000000e+00 8.49019490e-01 8.69365075e-01 1.00000000e+00\n",
            "  1.21653346e-01 1.00000000e+00 1.00000000e+00 1.00000000e+00]\n",
            " [1.00000000e+00 1.15600310e-01 1.00000000e+00 1.00000000e+00\n",
            "  2.64402595e-01 4.32268347e-01 1.00000000e+00 1.00000000e+00\n",
            "  1.88687084e-01 5.65315140e-01 4.78790315e-01 2.67818577e-01\n",
            "  8.19047987e-01 2.47944489e-01 1.00000000e+00 2.99942941e-01\n",
            "  1.42649380e-01 1.00000000e+00 6.33986794e-01 3.84388286e-01]\n",
            " [1.00000000e+00 5.19860513e-01 7.48488443e-01 1.00000000e+00\n",
            "  5.39235597e-01 1.00000000e+00 1.00000000e+00 7.13889731e-01\n",
            "  1.00000000e+00 4.69979568e-01 1.00000000e+00 1.00000000e+00\n",
            "  3.40301518e-01 7.28448714e-01 1.00000000e+00 3.17730699e-01\n",
            "  4.75438600e-01 4.42007949e-01 8.41498488e-02 3.61146496e-01]\n",
            " [1.00000000e+00 5.38673876e-01 6.70990540e-01 4.43673854e-01\n",
            "  7.97152763e-01 1.00000000e+00 4.40228810e-01 3.29640410e-01\n",
            "  1.00000000e+00 1.00000000e+00 1.00000000e+00 1.00000000e+00\n",
            "  1.00000000e+00 1.00000000e+00 1.00000000e+00 3.60055102e-01\n",
            "  1.00000000e+00 2.62427732e-01 1.00000000e+00 1.00000000e+00]\n",
            " [1.00000000e+00 1.00000000e+00 1.00000000e+00 5.04136789e-02\n",
            "  1.00000000e+00 1.00000000e+00 1.00000000e+00 1.00000000e+00\n",
            "  1.00000000e+00 1.00000000e+00 2.42880017e-01 4.29614130e-01\n",
            "  1.00000000e+00 1.00000000e+00 5.83407269e-01 0.00000000e+00\n",
            "  0.00000000e+00 7.82195115e-01 1.00000000e+00 1.00000000e+00]\n",
            " [2.12467605e-01 5.36251431e-01 4.33527009e-01 6.07321180e-01\n",
            "  4.27635993e-01 1.00000000e+00 5.86430486e-02 7.71001617e-01\n",
            "  1.00000000e+00 1.00000000e+00 6.53806003e-01 3.99462376e-01\n",
            "  1.00000000e+00 1.00000000e+00 1.00000000e+00 2.72599651e-01\n",
            "  2.33294497e-01 1.00000000e+00 1.00000000e+00 2.43775807e-01]\n",
            " [1.00000000e+00 5.96168105e-01 1.00000000e+00 1.00000000e+00\n",
            "  2.10642252e-01 1.00000000e+00 1.00000000e+00 3.08758938e-01\n",
            "  1.00000000e+00 1.92597262e-02 1.00000000e+00 3.78361443e-01\n",
            "  1.00000000e+00 1.00000000e+00 1.00000000e+00 1.74219176e-01\n",
            "  1.00000000e+00 5.18783536e-01 4.73712630e-01 1.00000000e+00]\n",
            " [7.82545374e-01 1.00000000e+00 5.63521838e-01 1.71103308e-01\n",
            "  1.00000000e+00 3.17443305e-01 7.48465093e-01 1.00000000e+00\n",
            "  8.49499819e-01 4.03405402e-01 1.32363650e-01 6.21331161e-01\n",
            "  1.00000000e+00 2.32013165e-01 1.00000000e+00 6.20630240e-01\n",
            "  1.00000000e+00 1.99815240e-01 8.47013528e-01 1.00000000e+00]]\n"
          ]
        }
      ],
      "source": [
        "# 疑似データ作成\n",
        "# 行列(user_id,spot_id)\n",
        "# 要素：訪れたか訪れていないかの2値、1が訪問、0が未訪問\n",
        "user_num = 30\n",
        "spot_num = 20\n",
        "X_mat = np.random.choice([0.0, 1.0], (user_num, spot_num))\n",
        "print(X_mat)\n",
        "\n",
        "\n",
        "\n",
        "# 未訪問の地点の確率を0から乱数値に置き換え\n",
        "print(\"Regard zero-elements as missing data '?' with probability p\")\n",
        "\n",
        "p = 0.9\n",
        "for user_id in range(user_num):\n",
        "    for spot_id in range(spot_num):\n",
        "        # Regard zero-elements as missing data \"?\" with probability p\n",
        "        if X_mat[user_id,spot_id] == 0:\n",
        "            threshold = np.random.rand()\n",
        "#             print(threshold)\n",
        "            if threshold < p:\n",
        "                X_mat[user_id,spot_id] = threshold\n",
        "#                 print(X_mat[user_id,spot_id])\n",
        "\n",
        "print(X_mat)"
      ]
    },
    {
      "cell_type": "markdown",
      "metadata": {
        "id": "VdVFZ2fibknA"
      },
      "source": [
        "# 学習"
      ]
    },
    {
      "cell_type": "code",
      "execution_count": null,
      "metadata": {
        "id": "wvHDGnOAbknA",
        "outputId": "2419331a-6ab5-4fba-e6a2-ca019dc21dc7"
      },
      "outputs": [
        {
          "name": "stdout",
          "output_type": "stream",
          "text": [
            "W: (30, 2) H: (2, 20)\n"
          ]
        },
        {
          "name": "stderr",
          "output_type": "stream",
          "text": [
            "/Users/haseryo/opt/anaconda3/lib/python3.8/site-packages/sklearn/decomposition/_nmf.py:1076: ConvergenceWarning: Maximum number of iterations 200 reached. Increase it to improve convergence.\n",
            "  warnings.warn(\"Maximum number of iterations %d reached. Increase it to\"\n"
          ]
        },
        {
          "data": {
            "image/png": "[encoded data removed]",
            "text/plain": [
              "<Figure size 432x288 with 1 Axes>"
            ]
          },
          "metadata": {
            "needs_background": "light"
          },
          "output_type": "display_data"
        },
        {
          "data": {
            "image/png": "[encoded data removed]",
            "text/plain": [
              "<Figure size 432x288 with 1 Axes>"
            ]
          },
          "metadata": {
            "needs_background": "light"
          },
          "output_type": "display_data"
        }
      ],
      "source": [
        "from sklearn.decomposition import NMF\n",
        "# 基底の数\n",
        "n_components = 2\n",
        "\n",
        "nmf = NMF(n_components=n_components, init='random', random_state=1)\n",
        "W = nmf.fit_transform(X_mat)\n",
        "H = nmf.components_\n",
        "print(\"W:\",W.shape,\"H:\",H.shape)\n",
        "for count in range(0,n_components):\n",
        "    plt.plot(H[count],c=\"black\")\n",
        "    plt.xlabel(\"spot_id\")\n",
        "    plt.ylabel(\"Intensity\")\n",
        "    plt.title(\"Component \"+str(count+1))\n",
        "    plt.ylim(0,1)\n",
        "    plt.show()"
      ]
    },
    {
      "cell_type": "markdown",
      "metadata": {
        "id": "SyMjBvAwbknB"
      },
      "source": [
        "# 推論"
      ]
    },
    {
      "cell_type": "code",
      "execution_count": null,
      "metadata": {
        "id": "s1RSCuDAbknB",
        "outputId": "1c57b1e7-42b2-4aba-9bc5-9fcaa99653d6"
      },
      "outputs": [
        {
          "name": "stdout",
          "output_type": "stream",
          "text": [
            "(30, 20)\n",
            "1.0\n",
            "0.0\n",
            "0.6204123987867777\n"
          ]
        }
      ],
      "source": [
        "X_mat_pred = np.dot(W,H)\n",
        "X_mat_pred = X_mat_pred/np.max(X_mat_pred)\n",
        "print(X_mat_pred.shape)\n",
        "print(np.max(X_mat_pred))\n",
        "print(np.min(X_mat_pred))\n",
        "print(np.mean(X_mat_pred))"
      ]
    },
    {
      "cell_type": "code",
      "execution_count": null,
      "metadata": {
        "id": "iPoelYHebknB",
        "outputId": "9b8feb85-de37-43d0-9f22-bb65187d514b"
      },
      "outputs": [
        {
          "name": "stdout",
          "output_type": "stream",
          "text": [
            "USER_ID: 1 selected_list: [1, 3, 4, 7, 10, 14, 15, 18]\n",
            "the best POI to recommend to user:1, spot_id: 14\n"
          ]
        }
      ],
      "source": [
        "# DEMO_SimpleDetourからの入力情報\n",
        "# たくさんある候補(selected_list)の中から1つをレコメンドしたい\n",
        "\n",
        "print(\"USER_ID:\",USER_ID, \"selected_list:\",selected_list)\n",
        "\n",
        "best_poi_id = selected_list[np.argmax(X_mat_pred[USER_ID][selected_list])]\n",
        "print(f\"the best POI for recommending to user:{USER_ID}, spot_id:\",best_poi_id)"
      ]
    }
  ],
  "metadata": {
    "kernelspec": {
      "display_name": "Python 3",
      "language": "python",
      "name": "python3"
    },
    "language_info": {
      "codemirror_mode": {
        "name": "ipython",
        "version": 3
      },
      "file_extension": ".py",
      "mimetype": "text/x-python",
      "name": "python",
      "nbconvert_exporter": "python",
      "pygments_lexer": "ipython3",
      "version": "3.8.3"
    },
    "colab": {
      "name": "POI_NMF.ipynb",
      "provenance": [],
      "include_colab_link": true
    }
  },
  "nbformat": 4,
  "nbformat_minor": 0
}