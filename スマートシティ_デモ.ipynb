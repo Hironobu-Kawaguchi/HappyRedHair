{
  "nbformat": 4,
  "nbformat_minor": 0,
  "metadata": {
    "colab": {
      "name": "スマートシティ_デモ.ipynb",
      "provenance": [],
      "authorship_tag": "ABX9TyPWM1YMhQtElUbNKZPf8hvH",
      "include_colab_link": true
    },
    "kernelspec": {
      "name": "python3",
      "display_name": "Python 3"
    },
    "language_info": {
      "name": "python"
    }
  },
  "cells": [
    {
      "cell_type": "markdown",
      "metadata": {
        "id": "view-in-github",
        "colab_type": "text"
      },
      "source": [
        "<a href=\"https://colab.research.google.com/github/Hironobu-Kawaguchi/HappyRedHair/blob/main/%E3%82%B9%E3%83%9E%E3%83%BC%E3%83%88%E3%82%B7%E3%83%86%E3%82%A3_%E3%83%87%E3%83%A2.ipynb\" target=\"_parent\"><img src=\"https://colab.research.google.com/assets/colab-badge.svg\" alt=\"Open In Colab\"/></a>"
      ]
    },
    {
      "cell_type": "code",
      "source": [
        "!pip install japanize-matplotlib"
      ],
      "metadata": {
        "colab": {
          "base_uri": "https://localhost:8080/"
        },
        "id": "O_8klqZfpWXP",
        "outputId": "b3e24598-3d9f-43e6-ab69-2b3c7f7f5fa6"
      },
      "execution_count": 1,
      "outputs": [
        {
          "output_type": "stream",
          "name": "stdout",
          "text": [
            "Collecting japanize-matplotlib\n",
            "  Downloading japanize-matplotlib-1.1.3.tar.gz (4.1 MB)\n",
            "\u001b[K     |████████████████████████████████| 4.1 MB 21.3 MB/s \n",
            "\u001b[?25hRequirement already satisfied: matplotlib in /usr/local/lib/python3.7/dist-packages (from japanize-matplotlib) (3.2.2)\n",
            "Requirement already satisfied: pyparsing!=2.0.4,!=2.1.2,!=2.1.6,>=2.0.1 in /usr/local/lib/python3.7/dist-packages (from matplotlib->japanize-matplotlib) (3.0.7)\n",
            "Requirement already satisfied: cycler>=0.10 in /usr/local/lib/python3.7/dist-packages (from matplotlib->japanize-matplotlib) (0.11.0)\n",
            "Requirement already satisfied: numpy>=1.11 in /usr/local/lib/python3.7/dist-packages (from matplotlib->japanize-matplotlib) (1.21.5)\n",
            "Requirement already satisfied: kiwisolver>=1.0.1 in /usr/local/lib/python3.7/dist-packages (from matplotlib->japanize-matplotlib) (1.3.2)\n",
            "Requirement already satisfied: python-dateutil>=2.1 in /usr/local/lib/python3.7/dist-packages (from matplotlib->japanize-matplotlib) (2.8.2)\n",
            "Requirement already satisfied: six>=1.5 in /usr/local/lib/python3.7/dist-packages (from python-dateutil>=2.1->matplotlib->japanize-matplotlib) (1.15.0)\n",
            "Building wheels for collected packages: japanize-matplotlib\n",
            "  Building wheel for japanize-matplotlib (setup.py) ... \u001b[?25l\u001b[?25hdone\n",
            "  Created wheel for japanize-matplotlib: filename=japanize_matplotlib-1.1.3-py3-none-any.whl size=4120275 sha256=4d853f30877ca1a22f2aada9007c7364eaa0ddfafd057cfb7c26b2d8aeb86571\n",
            "  Stored in directory: /root/.cache/pip/wheels/83/97/6b/e9e0cde099cc40f972b8dd23367308f7705ae06cd6d4714658\n",
            "Successfully built japanize-matplotlib\n",
            "Installing collected packages: japanize-matplotlib\n",
            "Successfully installed japanize-matplotlib-1.1.3\n"
          ]
        }
      ]
    },
    {
      "cell_type": "code",
      "execution_count": 2,
      "metadata": {
        "id": "mvEFIPjwLAjX"
      },
      "outputs": [],
      "source": [
        "import numpy as np\n",
        "import matplotlib.pyplot as plt\n",
        "import pandas as pd\n",
        "import japanize_matplotlib"
      ]
    },
    {
      "cell_type": "code",
      "source": [
        "spot_list = ['カフェ0', 'カフェ1', 'カフェ2', 'カフェ3', 'カフェ4', \n",
        "             'カフェ5', 'カフェ6', 'カフェ7', 'カフェ8', 'カフェ9', \n",
        "             'パン屋0', 'パン屋1', 'パン屋2', 'パン屋3', 'パン屋4', \n",
        "             'パン屋5', 'パン屋6', 'パン屋7', 'パン屋8', 'パン屋9']\n",
        "\n",
        "purpose_list = ['ゆっくり', 'ゆっくり', 'ゆっくり', 'ゆっくり', 'ゆっくり', \n",
        "                'ゆっくり', 'ゆっくり', 'ゆっくり', 'ゆっくり', 'ゆっくり', \n",
        "                'ゆっくり', 'ゆっくり', 'ゆっくり', 'ゆっくり', 'ゆっくり', \n",
        "                'ゆっくり', 'ゆっくり', 'ゆっくり', 'ゆっくり', 'ゆっくり']\n",
        "\n",
        "mood_list = ['静か', '静か', '静か', '静か', '静か', \n",
        "             '静か', '静か', '静か', '静か', '静か', \n",
        "             '静か', '静か', '静か', '静か', '静か', \n",
        "             '静か', '静か', '静か', '静か', '静か']\n",
        "\n",
        "time_list = [30, 60, 25, 20, 30, \n",
        "             30, 45, 30, 30, 45, \n",
        "             20, 15, 10, 10, 15, \n",
        "             15, 20, 15, 15, 10]\n",
        "\n",
        "comment_list = ['ケーキが余っています', 'ショートケーキ3個', 'モンブラン1個', '感染対策バッチリ', '紅茶と相性バッチリなモンブラン', \n",
        "                'ケーキ売れるまで閉めません', '瀧先生います', '自家製コーヒー', 'あの長谷川選手のお気に入り！', 'この街がスマートになる前からやっています', \n",
        "                'アンパンマンパンはパンなん？', '軽食にいかが？', 'サンドイッチが最高', '結構余ってます', '一番人気はメロンパン！', \n",
        "                'あんぱんがおすすめ！', '雰囲気いい', '高級食パンおいてます', 'あと3個です', 'テイクアウト専用']"
      ],
      "metadata": {
        "id": "0p3TNuYrLQlc"
      },
      "execution_count": 3,
      "outputs": []
    },
    {
      "cell_type": "code",
      "source": [
        "print(\"現在地 x (0<x<5000)を入力してください．\")\n",
        "from_x = int(input())\n",
        "\n",
        "print(\"\\n現在地 y (0<y<5000)を入力してください．\")\n",
        "from_y = int(input())\n",
        "\n",
        "print(\"\\n目的地 x (0<x<5000)を入力してください．\")\n",
        "to_x = int(input())\n",
        "\n",
        "print(\"\\n目的地 y (0<y<5000)を入力してください．\")\n",
        "to_y = int(input())\n",
        "\n",
        "print(\"\\n空き時間（分）を入力してください．\")\n",
        "my_time = float(input())\n",
        "\n",
        "print(\"\\n目的を ['食事', 'ゆっくり'] から選択してください．\")\n",
        "my_purpose = input()\n",
        "\n",
        "print(\"\\n気分を ['静か', '賑やか'] から選択してください．\")\n",
        "my_mood = input()"
      ],
      "metadata": {
        "colab": {
          "base_uri": "https://localhost:8080/"
        },
        "id": "UcmuRLdBKN_j",
        "outputId": "dda7dd03-ada2-47f5-eb79-b8e051385bd9"
      },
      "execution_count": 6,
      "outputs": [
        {
          "output_type": "stream",
          "name": "stdout",
          "text": [
            "現在地 x (0<x<5000)を入力してください．\n",
            "500\n",
            "\n",
            "現在地 y (0<y<5000)を入力してください．\n",
            "500\n",
            "\n",
            "目的地 x (0<x<5000)を入力してください．\n",
            "4500\n",
            "\n",
            "目的地 y (0<y<5000)を入力してください．\n",
            "4500\n",
            "\n",
            "空き時間（分）を入力してください．\n",
            "60\n",
            "\n",
            "目的を ['食事', 'ゆっくり'] から選択してください．\n",
            "ゆっくり\n",
            "\n",
            "\n",
            "気分を ['静か', '賑やか'] から選択してください．\n"
          ]
        }
      ]
    },
    {
      "cell_type": "code",
      "source": [
        "np.random.seed(124)\n",
        "x_array = np.random.randint(0, 5000, 20)\n",
        "y_array = np.random.randint(0, 5000, 20)\n",
        "\n",
        "plt.figure(figsize=(7, 7))\n",
        "plt.scatter(500, 500, c='red', s=100)\n",
        "plt.scatter(4500, 4500, c='green', s=100)\n",
        "plt.scatter(x_array, y_array, c='skyblue', s=100)\n",
        "plt.xlim(-500, 5500)\n",
        "plt.ylim(-500, 5500)\n",
        "plt.grid(True)\n",
        "plt.show()"
      ],
      "metadata": {
        "colab": {
          "base_uri": "https://localhost:8080/",
          "height": 427
        },
        "id": "il7CPwSjN0Tw",
        "outputId": "1ba34032-b1b6-4c53-c927-76490f2bfb18"
      },
      "execution_count": 7,
      "outputs": [
        {
          "output_type": "display_data",
          "data": {
            "text/plain": [
              "<Figure size 504x504 with 1 Axes>"
            ],
            "image/png": "[encoded data removed]"
          },
          "metadata": {
            "needs_background": "light"
          }
        }
      ]
    },
    {
      "cell_type": "code",
      "source": [
        "def culc_minute(my_x, my_y):\n",
        "    distance_array = np.sqrt((x_array - my_x)**2 + (y_array - my_y)**2)\n",
        "    minute_array = np.round(distance_array / 100)\n",
        "\n",
        "    possible_array = np.array(time_list) - minute_array*2\n",
        "    return minute_array.astype(int), possible_array.astype(int)\n",
        "\n",
        "from_minute_array, from_possible_array = culc_minute(500, 500)\n",
        "to_minute_array, to_possible_array = culc_minute(4500, 4500)\n",
        "print(from_minute_array)\n",
        "print(from_minute_array)\n",
        "print(to_minute_array)\n",
        "print(to_minute_array)"
      ],
      "metadata": {
        "colab": {
          "base_uri": "https://localhost:8080/"
        },
        "id": "RDXpBqxtYsp_",
        "outputId": "de51908a-a366-4095-d836-5a98b1b69a51"
      },
      "execution_count": 8,
      "outputs": [
        {
          "output_type": "stream",
          "name": "stdout",
          "text": [
            "[59 61 14  8 16 35 48 14 40 42  5 19 41 38 22 40 36  7 10 44]\n",
            "[59 61 14  8 16 35 48 14 40 42  5 19 41 38 22 40 36  7 10 44]\n",
            "[ 2  5 51 48 45 21 13 50 21 22 62 48 29 38 36 21 37 51 49 41]\n",
            "[ 2  5 51 48 45 21 13 50 21 22 62 48 29 38 36 21 37 51 49 41]\n"
          ]
        }
      ]
    },
    {
      "cell_type": "code",
      "source": [
        "df_all = pd.DataFrame(list(zip(spot_list, from_minute_array, to_minute_array, purpose_list, mood_list, time_list, comment_list)), columns = ['spot', 'here_to_spot', 'spot_to_distination', 'purpose', 'mood', 'time', 'comment'])\n",
        "df_all"
      ],
      "metadata": {
        "colab": {
          "base_uri": "https://localhost:8080/",
          "height": 669
        },
        "id": "D4nRDaa3ZdSb",
        "outputId": "adc19f14-8be0-42ec-e22d-ced7b10dc3d2"
      },
      "execution_count": null,
      "outputs": [
        {
          "output_type": "execute_result",
          "data": {
            "text/plain": [
              "      spot  from_here purpose mood  time         comment\n",
              "0      映画館         30     楽しむ   静か   180          最新作公開！\n",
              "1   ラーメン屋1         33      食事  賑やか    30              家系\n",
              "2    カラオケ1         24     楽しむ  賑やか    60       ドリンクバー無料！\n",
              "3     パン屋1         20      食事   静か    15        感染対策バッチリ\n",
              "4      公園1         19    ゆっくり  賑やか    30         いい風吹きます\n",
              "5     カフェ1          7    ゆっくり   静か    30           雰囲気いい\n",
              "6    カラオケ2         21     楽しむ  賑やか    60         ヒトカラ歓迎！\n",
              "7     パン屋2         23      食事   静か    15      あんぱんがおすすめ！\n",
              "8      公園2         15    ゆっくり   静か    30          瀧先生います\n",
              "9      公園3         18    ゆっくり  賑やか    30          広い公園です\n",
              "10    カフェ2         33     買い物   静か    30         自家製コーヒー\n",
              "11    カフェ3         23     楽しむ   静か    30  あの長谷川選手のお気に入り！\n",
              "12      整体         21    ゆっくり   静か    60         任せてください\n",
              "13    パン屋3         25      食事  賑やか    15         結構余ってます\n",
              "14    パン屋4         10      食事   静か    15     一番人気はメロンパン！\n",
              "15     服屋1         15     買い物  賑やか    20        メンズの服豊富！\n",
              "16     服屋2         23     買い物  賑やか    20          古着あります\n",
              "17     服屋3         23     買い物  賑やか    20           靴多めです\n",
              "18     服屋4         21    ゆっくり  賑やか    20        大きいサイズの店\n",
              "19  ラーメン屋2         32      食事  賑やか    30             二郎系"
            ],
            "text/html": [
              "\n",
              "  <div id=\"df-46f299d7-9d80-452e-aae1-b4e1f30812bc\">\n",
              "    <div class=\"colab-df-container\">\n",
              "      <div>\n",
              "<style scoped>\n",
              "    .dataframe tbody tr th:only-of-type {\n",
              "        vertical-align: middle;\n",
              "    }\n",
              "\n",
              "    .dataframe tbody tr th {\n",
              "        vertical-align: top;\n",
              "    }\n",
              "\n",
              "    .dataframe thead th {\n",
              "        text-align: right;\n",
              "    }\n",
              "</style>\n",
              "<table border=\"1\" class=\"dataframe\">\n",
              "  <thead>\n",
              "    <tr style=\"text-align: right;\">\n",
              "      <th></th>\n",
              "      <th>spot</th>\n",
              "      <th>from_here</th>\n",
              "      <th>purpose</th>\n",
              "      <th>mood</th>\n",
              "      <th>time</th>\n",
              "      <th>comment</th>\n",
              "    </tr>\n",
              "  </thead>\n",
              "  <tbody>\n",
              "    <tr>\n",
              "      <th>0</th>\n",
              "      <td>映画館</td>\n",
              "      <td>30</td>\n",
              "      <td>楽しむ</td>\n",
              "      <td>静か</td>\n",
              "      <td>180</td>\n",
              "      <td>最新作公開！</td>\n",
              "    </tr>\n",
              "    <tr>\n",
              "      <th>1</th>\n",
              "      <td>ラーメン屋1</td>\n",
              "      <td>33</td>\n",
              "      <td>食事</td>\n",
              "      <td>賑やか</td>\n",
              "      <td>30</td>\n",
              "      <td>家系</td>\n",
              "    </tr>\n",
              "    <tr>\n",
              "      <th>2</th>\n",
              "      <td>カラオケ1</td>\n",
              "      <td>24</td>\n",
              "      <td>楽しむ</td>\n",
              "      <td>賑やか</td>\n",
              "      <td>60</td>\n",
              "      <td>ドリンクバー無料！</td>\n",
              "    </tr>\n",
              "    <tr>\n",
              "      <th>3</th>\n",
              "      <td>パン屋1</td>\n",
              "      <td>20</td>\n",
              "      <td>食事</td>\n",
              "      <td>静か</td>\n",
              "      <td>15</td>\n",
              "      <td>感染対策バッチリ</td>\n",
              "    </tr>\n",
              "    <tr>\n",
              "      <th>4</th>\n",
              "      <td>公園1</td>\n",
              "      <td>19</td>\n",
              "      <td>ゆっくり</td>\n",
              "      <td>賑やか</td>\n",
              "      <td>30</td>\n",
              "      <td>いい風吹きます</td>\n",
              "    </tr>\n",
              "    <tr>\n",
              "      <th>5</th>\n",
              "      <td>カフェ1</td>\n",
              "      <td>7</td>\n",
              "      <td>ゆっくり</td>\n",
              "      <td>静か</td>\n",
              "      <td>30</td>\n",
              "      <td>雰囲気いい</td>\n",
              "    </tr>\n",
              "    <tr>\n",
              "      <th>6</th>\n",
              "      <td>カラオケ2</td>\n",
              "      <td>21</td>\n",
              "      <td>楽しむ</td>\n",
              "      <td>賑やか</td>\n",
              "      <td>60</td>\n",
              "      <td>ヒトカラ歓迎！</td>\n",
              "    </tr>\n",
              "    <tr>\n",
              "      <th>7</th>\n",
              "      <td>パン屋2</td>\n",
              "      <td>23</td>\n",
              "      <td>食事</td>\n",
              "      <td>静か</td>\n",
              "      <td>15</td>\n",
              "      <td>あんぱんがおすすめ！</td>\n",
              "    </tr>\n",
              "    <tr>\n",
              "      <th>8</th>\n",
              "      <td>公園2</td>\n",
              "      <td>15</td>\n",
              "      <td>ゆっくり</td>\n",
              "      <td>静か</td>\n",
              "      <td>30</td>\n",
              "      <td>瀧先生います</td>\n",
              "    </tr>\n",
              "    <tr>\n",
              "      <th>9</th>\n",
              "      <td>公園3</td>\n",
              "      <td>18</td>\n",
              "      <td>ゆっくり</td>\n",
              "      <td>賑やか</td>\n",
              "      <td>30</td>\n",
              "      <td>広い公園です</td>\n",
              "    </tr>\n",
              "    <tr>\n",
              "      <th>10</th>\n",
              "      <td>カフェ2</td>\n",
              "      <td>33</td>\n",
              "      <td>買い物</td>\n",
              "      <td>静か</td>\n",
              "      <td>30</td>\n",
              "      <td>自家製コーヒー</td>\n",
              "    </tr>\n",
              "    <tr>\n",
              "      <th>11</th>\n",
              "      <td>カフェ3</td>\n",
              "      <td>23</td>\n",
              "      <td>楽しむ</td>\n",
              "      <td>静か</td>\n",
              "      <td>30</td>\n",
              "      <td>あの長谷川選手のお気に入り！</td>\n",
              "    </tr>\n",
              "    <tr>\n",
              "      <th>12</th>\n",
              "      <td>整体</td>\n",
              "      <td>21</td>\n",
              "      <td>ゆっくり</td>\n",
              "      <td>静か</td>\n",
              "      <td>60</td>\n",
              "      <td>任せてください</td>\n",
              "    </tr>\n",
              "    <tr>\n",
              "      <th>13</th>\n",
              "      <td>パン屋3</td>\n",
              "      <td>25</td>\n",
              "      <td>食事</td>\n",
              "      <td>賑やか</td>\n",
              "      <td>15</td>\n",
              "      <td>結構余ってます</td>\n",
              "    </tr>\n",
              "    <tr>\n",
              "      <th>14</th>\n",
              "      <td>パン屋4</td>\n",
              "      <td>10</td>\n",
              "      <td>食事</td>\n",
              "      <td>静か</td>\n",
              "      <td>15</td>\n",
              "      <td>一番人気はメロンパン！</td>\n",
              "    </tr>\n",
              "    <tr>\n",
              "      <th>15</th>\n",
              "      <td>服屋1</td>\n",
              "      <td>15</td>\n",
              "      <td>買い物</td>\n",
              "      <td>賑やか</td>\n",
              "      <td>20</td>\n",
              "      <td>メンズの服豊富！</td>\n",
              "    </tr>\n",
              "    <tr>\n",
              "      <th>16</th>\n",
              "      <td>服屋2</td>\n",
              "      <td>23</td>\n",
              "      <td>買い物</td>\n",
              "      <td>賑やか</td>\n",
              "      <td>20</td>\n",
              "      <td>古着あります</td>\n",
              "    </tr>\n",
              "    <tr>\n",
              "      <th>17</th>\n",
              "      <td>服屋3</td>\n",
              "      <td>23</td>\n",
              "      <td>買い物</td>\n",
              "      <td>賑やか</td>\n",
              "      <td>20</td>\n",
              "      <td>靴多めです</td>\n",
              "    </tr>\n",
              "    <tr>\n",
              "      <th>18</th>\n",
              "      <td>服屋4</td>\n",
              "      <td>21</td>\n",
              "      <td>ゆっくり</td>\n",
              "      <td>賑やか</td>\n",
              "      <td>20</td>\n",
              "      <td>大きいサイズの店</td>\n",
              "    </tr>\n",
              "    <tr>\n",
              "      <th>19</th>\n",
              "      <td>ラーメン屋2</td>\n",
              "      <td>32</td>\n",
              "      <td>食事</td>\n",
              "      <td>賑やか</td>\n",
              "      <td>30</td>\n",
              "      <td>二郎系</td>\n",
              "    </tr>\n",
              "  </tbody>\n",
              "</table>\n",
              "</div>\n",
              "      <button class=\"colab-df-convert\" onclick=\"convertToInteractive('df-46f299d7-9d80-452e-aae1-b4e1f30812bc')\"\n",
              "              title=\"Convert this dataframe to an interactive table.\"\n",
              "              style=\"display:none;\">\n",
              "        \n",
              "  <svg xmlns=\"http://www.w3.org/2000/svg\" height=\"24px\"viewBox=\"0 0 24 24\"\n",
              "       width=\"24px\">\n",
              "    <path d=\"M0 0h24v24H0V0z\" fill=\"none\"/>\n",
              "    <path d=\"M18.56 5.44l.94 2.06.94-2.06 2.06-.94-2.06-.94-.94-2.06-.94 2.06-2.06.94zm-11 1L8.5 8.5l.94-2.06 2.06-.94-2.06-.94L8.5 2.5l-.94 2.06-2.06.94zm10 10l.94 2.06.94-2.06 2.06-.94-2.06-.94-.94-2.06-.94 2.06-2.06.94z\"/><path d=\"M17.41 7.96l-1.37-1.37c-.4-.4-.92-.59-1.43-.59-.52 0-1.04.2-1.43.59L10.3 9.45l-7.72 7.72c-.78.78-.78 2.05 0 2.83L4 21.41c.39.39.9.59 1.41.59.51 0 1.02-.2 1.41-.59l7.78-7.78 2.81-2.81c.8-.78.8-2.07 0-2.86zM5.41 20L4 18.59l7.72-7.72 1.47 1.35L5.41 20z\"/>\n",
              "  </svg>\n",
              "      </button>\n",
              "      \n",
              "  <style>\n",
              "    .colab-df-container {\n",
              "      display:flex;\n",
              "      flex-wrap:wrap;\n",
              "      gap: 12px;\n",
              "    }\n",
              "\n",
              "    .colab-df-convert {\n",
              "      background-color: #E8F0FE;\n",
              "      border: none;\n",
              "      border-radius: 50%;\n",
              "      cursor: pointer;\n",
              "      display: none;\n",
              "      fill: #1967D2;\n",
              "      height: 32px;\n",
              "      padding: 0 0 0 0;\n",
              "      width: 32px;\n",
              "    }\n",
              "\n",
              "    .colab-df-convert:hover {\n",
              "      background-color: #E2EBFA;\n",
              "      box-shadow: 0px 1px 2px rgba(60, 64, 67, 0.3), 0px 1px 3px 1px rgba(60, 64, 67, 0.15);\n",
              "      fill: #174EA6;\n",
              "    }\n",
              "\n",
              "    [theme=dark] .colab-df-convert {\n",
              "      background-color: #3B4455;\n",
              "      fill: #D2E3FC;\n",
              "    }\n",
              "\n",
              "    [theme=dark] .colab-df-convert:hover {\n",
              "      background-color: #434B5C;\n",
              "      box-shadow: 0px 1px 3px 1px rgba(0, 0, 0, 0.15);\n",
              "      filter: drop-shadow(0px 1px 2px rgba(0, 0, 0, 0.3));\n",
              "      fill: #FFFFFF;\n",
              "    }\n",
              "  </style>\n",
              "\n",
              "      <script>\n",
              "        const buttonEl =\n",
              "          document.querySelector('#df-46f299d7-9d80-452e-aae1-b4e1f30812bc button.colab-df-convert');\n",
              "        buttonEl.style.display =\n",
              "          google.colab.kernel.accessAllowed ? 'block' : 'none';\n",
              "\n",
              "        async function convertToInteractive(key) {\n",
              "          const element = document.querySelector('#df-46f299d7-9d80-452e-aae1-b4e1f30812bc');\n",
              "          const dataTable =\n",
              "            await google.colab.kernel.invokeFunction('convertToInteractive',\n",
              "                                                     [key], {});\n",
              "          if (!dataTable) return;\n",
              "\n",
              "          const docLinkHtml = 'Like what you see? Visit the ' +\n",
              "            '<a target=\"_blank\" href=https://colab.research.google.com/notebooks/data_table.ipynb>data table notebook</a>'\n",
              "            + ' to learn more about interactive tables.';\n",
              "          element.innerHTML = '';\n",
              "          dataTable['output_type'] = 'display_data';\n",
              "          await google.colab.output.renderOutput(dataTable, element);\n",
              "          const docLink = document.createElement('div');\n",
              "          docLink.innerHTML = docLinkHtml;\n",
              "          element.appendChild(docLink);\n",
              "        }\n",
              "      </script>\n",
              "    </div>\n",
              "  </div>\n",
              "  "
            ]
          },
          "metadata": {},
          "execution_count": 10
        }
      ]
    },
    {
      "cell_type": "code",
      "source": [
        "df_1st_candidate = df_all[(df_all['purpose'] == my_purpose) & (df_all['mood'] == my_mood) & (df_all['here_to_spot'] + df_all['time'] + df_all['spot_to_distination'] <= my_time)]\n",
        "df_1st_candidate"
      ],
      "metadata": {
        "id": "aOipq2YybnFn"
      },
      "execution_count": null,
      "outputs": []
    },
    {
      "cell_type": "code",
      "source": [
        "index_list = df_1st_candidate.index.tolist()\n",
        "index_list"
      ],
      "metadata": {
        "id": "7L0MGyQGfJhn"
      },
      "execution_count": null,
      "outputs": []
    },
    {
      "cell_type": "code",
      "source": [
        "plt.figure(figsize=(7, 7))\n",
        "for i in range(len(index_list)):\n",
        "    plt.plot([from_x, x_array[index_list[i]]], [from_y, y_array[index_list[i]]], c='blue')\n",
        "    plt.plot([to_x, x_array[index_list[i]]], [to_y, y_array[index_list[i]]], c='blue')\n",
        "#     plt.text(x_array[index_list[i]]+100, y_array[index_list[i]]+100, \"{}（お店からのコメント:{}）\".format(df_candidate.loc[index_list[i], \"spot\"], df_candidate.loc[index_list[i], \"comment\"]))\n",
        "plt.scatter(from_x, from_y, c='red', s=100)\n",
        "plt.scatter(to_x, to_y, c='green', s=100)\n",
        "plt.scatter(x_array, y_array, c='skyblue', s=50)\n",
        "plt.scatter(x_array[index_list], y_array[index_list], c='darkorange', s=100)\n",
        "plt.xlim(-500, 5500)\n",
        "plt.ylim(-500, 5500)\n",
        "plt.grid(True)\n",
        "plt.show()"
      ],
      "metadata": {
        "id": "i-n44UZajwAM"
      },
      "execution_count": null,
      "outputs": []
    },
    {
      "cell_type": "code",
      "source": [
        "def culc_minute(my_x, my_y):\n",
        "    distance_array = np.sqrt((x_array - my_x)**2 + (y_array - my_y)**2)\n",
        "    minute_array = np.round(distance_array / 125)\n",
        "\n",
        "    possible_array = np.array(time_list) - minute_array*2\n",
        "    return minute_array.astype(int), possible_array.astype(int)\n",
        "    \n",
        "def Detour():\n",
        "    print(\"現在地 x (0<x<5000)を入力してください．\")\n",
        "    from_x = int(input())\n",
        "\n",
        "    print(\"\\n現在地 y (0<y<5000)を入力してください．\")\n",
        "    from_y = int(input())\n",
        "\n",
        "    print(\"\\n目的地 x (0<x<5000)を入力してください．\")\n",
        "    to_x = int(input())\n",
        "\n",
        "    print(\"\\n目的地 y (0<y<5000)を入力してください．\")\n",
        "    to_y = int(input())\n",
        "\n",
        "    print(\"\\n空き時間（分）を入力してください．\")\n",
        "    my_time = float(input())\n",
        "\n",
        "    print(\"\\n目的を ['食事', 'ゆっくり'] から選択してください．\")\n",
        "    my_purpose = input()\n",
        "\n",
        "    print(\"\\n気分を ['静か', '賑やか'] から選択してください．\")\n",
        "    my_mood = input()\n",
        "\n",
        "    from_minute_array, from_possible_array = culc_minute(from_x, from_y)\n",
        "    to_minute_array, to_possible_array = culc_minute(to_x, to_y)\n",
        "\n",
        "    df_all = pd.DataFrame(list(zip(spot_list, from_minute_array, to_minute_array, purpose_list, mood_list, time_list, comment_list)), columns = ['spot', 'here_to_spot', 'spot_to_distination', 'purpose', 'mood', 'time', 'comment'])\n",
        "\n",
        "    df_candidate = df_all[(df_all['purpose'] == my_purpose) & (df_all['mood'] == my_mood) & (df_all['here_to_spot'] + df_all['time'] + df_all['spot_to_distination'] <= my_time)]\n",
        "\n",
        "    index_list = df_candidate.index.tolist()\n",
        "    \n",
        "    if len(index_list) == 0:\n",
        "        print('利用可能なスポットがありません．')\n",
        "\n",
        "    plt.figure(figsize=(7, 7))\n",
        "\n",
        "    for i in range(len(index_list)):\n",
        "        plt.plot([from_x, x_array[index_list[i]]], [from_y, y_array[index_list[i]]], c='blue')\n",
        "        plt.plot([to_x, x_array[index_list[i]]], [to_y, y_array[index_list[i]]], c='blue')\n",
        "        plt.text(x_array[index_list[i]]+100, y_array[index_list[i]]+100, \"{}（お店からのコメント:{}）\".format(df_candidate.loc[index_list[i], \"spot\"], df_candidate.loc[index_list[i], \"comment\"]))\n",
        "    \n",
        "    plt.scatter(from_x, from_y, c='red', s=100)\n",
        "    plt.scatter(to_x, to_y, c='green', s=100)\n",
        "    plt.scatter(x_array, y_array, c='skyblue', s=100)\n",
        "    plt.scatter(x_array[index_list], y_array[index_list], c='darkorange', s=50)\n",
        "    \n",
        "    plt.xlim(-500, 5500)\n",
        "    plt.ylim(-500, 5500)\n",
        "    plt.grid(True)\n",
        "    plt.show()"
      ],
      "metadata": {
        "id": "HslszpLCnrst"
      },
      "execution_count": 20,
      "outputs": []
    },
    {
      "cell_type": "code",
      "source": [
        "Detour()"
      ],
      "metadata": {
        "colab": {
          "base_uri": "https://localhost:8080/",
          "height": 784
        },
        "id": "N8ZtkSryrFmy",
        "outputId": "348be4dc-6bcd-48ef-e63d-6d832c831e47"
      },
      "execution_count": 21,
      "outputs": [
        {
          "output_type": "stream",
          "name": "stdout",
          "text": [
            "現在地 x (0<x<5000)を入力してください．\n",
            "500\n",
            "\n",
            "現在地 y (0<y<5000)を入力してください．\n",
            "500\n",
            "\n",
            "目的地 x (0<x<5000)を入力してください．\n",
            "4500\n",
            "\n",
            "目的地 y (0<y<5000)を入力してください．\n",
            "4500\n",
            "\n",
            "空き時間（分）を入力してください．\n",
            "60\n",
            "\n",
            "目的を ['食事', 'ゆっくり'] から選択してください．\n",
            "ゆっくり\n",
            "\n",
            "気分を ['静か', '賑やか'] から選択してください．\n",
            "静か\n",
            "利用可能なスポットがありません．\n"
          ]
        },
        {
          "output_type": "display_data",
          "data": {
            "text/plain": [
              "<Figure size 504x504 with 1 Axes>"
            ],
            "image/png": "[encoded data removed]"
          },
          "metadata": {
            "needs_background": "light"
          }
        }
      ]
    },
    {
      "cell_type": "code",
      "source": [
        "yuto-okawa"
      ],
      "metadata": {
        "id": "DkwnlFAUrHXG"
      },
      "execution_count": null,
      "outputs": []
    }
  ]
}