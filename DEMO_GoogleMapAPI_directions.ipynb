{
  "nbformat": 4,
  "nbformat_minor": 0,
  "metadata": {
    "colab": {
      "name": "DEMO_GoogleMapAPI_directions.ipynb",
      "provenance": [],
      "collapsed_sections": [],
      "authorship_tag": "ABX9TyOnz5Nf1ThZzHKQ/LHvpLk3",
      "include_colab_link": true
    },
    "kernelspec": {
      "name": "python3",
      "display_name": "Python 3"
    },
    "language_info": {
      "name": "python"
    }
  },
  "cells": [
    {
      "cell_type": "markdown",
      "metadata": {
        "id": "view-in-github",
        "colab_type": "text"
      },
      "source": [
        "<a href=\"https://colab.research.google.com/github/Hironobu-Kawaguchi/HappyRedHair/blob/main/DEMO_GoogleMapAPI_directions.ipynb\" target=\"_parent\"><img src=\"https://colab.research.google.com/assets/colab-badge.svg\" alt=\"Open In Colab\"/></a>"
      ]
    },
    {
      "cell_type": "markdown",
      "source": [
        "# Google Map API directions DEMO\n",
        "https://github.com/googlemaps/google-maps-services-python"
      ],
      "metadata": {
        "id": "M909eaHahtzZ"
      }
    },
    {
      "cell_type": "code",
      "source": [
        "!pip install -U googlemaps"
      ],
      "metadata": {
        "colab": {
          "base_uri": "https://localhost:8080/"
        },
        "id": "EBB3l9tvh13U",
        "outputId": "fcea1ac6-1107-4fb8-f288-06fde9f25e40"
      },
      "execution_count": 1,
      "outputs": [
        {
          "output_type": "stream",
          "name": "stdout",
          "text": [
            "Collecting googlemaps\n",
            "  Downloading googlemaps-4.6.0.tar.gz (31 kB)\n",
            "Requirement already satisfied: requests<3.0,>=2.20.0 in /usr/local/lib/python3.7/dist-packages (from googlemaps) (2.23.0)\n",
            "Requirement already satisfied: chardet<4,>=3.0.2 in /usr/local/lib/python3.7/dist-packages (from requests<3.0,>=2.20.0->googlemaps) (3.0.4)\n",
            "Requirement already satisfied: idna<3,>=2.5 in /usr/local/lib/python3.7/dist-packages (from requests<3.0,>=2.20.0->googlemaps) (2.10)\n",
            "Requirement already satisfied: certifi>=2017.4.17 in /usr/local/lib/python3.7/dist-packages (from requests<3.0,>=2.20.0->googlemaps) (2021.10.8)\n",
            "Requirement already satisfied: urllib3!=1.25.0,!=1.25.1,<1.26,>=1.21.1 in /usr/local/lib/python3.7/dist-packages (from requests<3.0,>=2.20.0->googlemaps) (1.24.3)\n",
            "Building wheels for collected packages: googlemaps\n",
            "  Building wheel for googlemaps (setup.py) ... \u001b[?25l\u001b[?25hdone\n",
            "  Created wheel for googlemaps: filename=googlemaps-4.6.0-py3-none-any.whl size=38554 sha256=958b33ffc55e8de54fb015d3dd223e66334696ec76ef9259dd3c05ad9480ab1f\n",
            "  Stored in directory: /root/.cache/pip/wheels/80/db/c0/6d958585fa97b20e250bf437acf7e6e715b4809c2dd4e55367\n",
            "Successfully built googlemaps\n",
            "Installing collected packages: googlemaps\n",
            "Successfully installed googlemaps-4.6.0\n"
          ]
        }
      ]
    },
    {
      "cell_type": "markdown",
      "source": [
        "GoogleMapAPIを格納した'token'というファイルを作成し、アップロードする"
      ],
      "metadata": {
        "id": "hjMapqovh4_r"
      }
    },
    {
      "cell_type": "code",
      "source": [
        "with open('token') as f:\n",
        "    key = f.read()"
      ],
      "metadata": {
        "id": "YHFKnwbhiMwC"
      },
      "execution_count": 4,
      "outputs": []
    },
    {
      "cell_type": "code",
      "source": [
        "import googlemaps\n",
        "from datetime import datetime\n",
        "\n",
        "gmaps = googlemaps.Client(key=key)"
      ],
      "metadata": {
        "id": "R_1Irn7QilTT"
      },
      "execution_count": 5,
      "outputs": []
    },
    {
      "cell_type": "code",
      "source": [
        "# Geocoding an address\n",
        "geocode_result = gmaps.geocode('立教大学', language='ja')\n",
        "geocode_result"
      ],
      "metadata": {
        "colab": {
          "base_uri": "https://localhost:8080/"
        },
        "id": "eh9EneFpix6b",
        "outputId": "e168e45f-8725-4d90-91f9-2797c710d37d"
      },
      "execution_count": 6,
      "outputs": [
        {
          "output_type": "execute_result",
          "data": {
            "text/plain": [
              "[{'address_components': [{'long_name': '１',\n",
              "    'short_name': '１',\n",
              "    'types': ['premise']},\n",
              "   {'long_name': '３４',\n",
              "    'short_name': '３４',\n",
              "    'types': ['political', 'sublocality', 'sublocality_level_4']},\n",
              "   {'long_name': '３丁目',\n",
              "    'short_name': '３丁目',\n",
              "    'types': ['political', 'sublocality', 'sublocality_level_3']},\n",
              "   {'long_name': '西池袋',\n",
              "    'short_name': '西池袋',\n",
              "    'types': ['political', 'sublocality', 'sublocality_level_2']},\n",
              "   {'long_name': '豊島区',\n",
              "    'short_name': '豊島区',\n",
              "    'types': ['locality', 'political']},\n",
              "   {'long_name': '東京都',\n",
              "    'short_name': '東京都',\n",
              "    'types': ['administrative_area_level_1', 'political']},\n",
              "   {'long_name': '日本', 'short_name': 'JP', 'types': ['country', 'political']},\n",
              "   {'long_name': '171-8501',\n",
              "    'short_name': '171-8501',\n",
              "    'types': ['postal_code']}],\n",
              "  'formatted_address': '日本、〒171-8501 東京都豊島区西池袋３丁目３４−１',\n",
              "  'geometry': {'location': {'lat': 35.7301199, 'lng': 139.7034185},\n",
              "   'location_type': 'ROOFTOP',\n",
              "   'viewport': {'northeast': {'lat': 35.73183013029149,\n",
              "     'lng': 139.7037555802915},\n",
              "    'southwest': {'lat': 35.72913216970849, 'lng': 139.7010576197085}}},\n",
              "  'partial_match': True,\n",
              "  'place_id': 'ChIJ9czCd1mNGGARol8ZDb1L6PI',\n",
              "  'plus_code': {'compound_code': 'PPJ3+29 日本、東京都豊島区',\n",
              "   'global_code': '8Q7XPPJ3+29'},\n",
              "  'types': ['establishment', 'point_of_interest', 'university']}]"
            ]
          },
          "metadata": {},
          "execution_count": 6
        }
      ]
    },
    {
      "cell_type": "code",
      "source": [
        "# Request directions via public transit\n",
        "now = datetime.now()\n",
        "directions_result = gmaps.directions(\"立教大学\",\n",
        "                                     \"サンシャインシティ\",\n",
        "                                     mode=\"walking\",\n",
        "                                     departure_time=now,\n",
        "                                     language=\"ja\")\n",
        "directions_result"
      ],
      "metadata": {
        "colab": {
          "base_uri": "https://localhost:8080/"
        },
        "id": "nq0gCs0Pi2O7",
        "outputId": "8aeb336d-df1e-4125-e3e3-78e6b4c4b32f"
      },
      "execution_count": 7,
      "outputs": [
        {
          "output_type": "execute_result",
          "data": {
            "text/plain": [
              "[{'bounds': {'northeast': {'lat': 35.7316566, 'lng': 139.7195256},\n",
              "   'southwest': {'lat': 35.7285977, 'lng': 139.7028736}},\n",
              "  'copyrights': 'Map data ©2022',\n",
              "  'legs': [{'distance': {'text': '1.8 km', 'value': 1792},\n",
              "    'duration': {'text': '24分', 'value': 1410},\n",
              "    'end_address': '日本、〒170-8630 東京都豊島区東池袋３丁目１',\n",
              "    'end_location': {'lat': 35.7289781, 'lng': 139.7195256},\n",
              "    'start_address': '日本、〒171-8501 東京都豊島区西池袋３丁目３４−１',\n",
              "    'start_location': {'lat': 35.7308017, 'lng': 139.7028736},\n",
              "    'steps': [{'distance': {'text': '0.4 km', 'value': 403},\n",
              "      'duration': {'text': '5分', 'value': 299},\n",
              "      'end_location': {'lat': 35.7316566, 'lng': 139.7071162},\n",
              "      'html_instructions': '<b>東</b>方向に<b>立教通り</b>を進む<div style=\"font-size:0.9em\">ファミリーマート 立教通り店を通過する（300&nbsp;m 先、右手）</div>',\n",
              "      'polyline': {'points': 'otayE}utsYAMIiAAQGgAAIAK?KEi@Ce@AC?MIcA?IAMAIK}A?EAKASACAOCMCOCSGYCKCMI]Oo@AGCOAECEAKEMAGACAECICEGGCA'},\n",
              "      'start_location': {'lat': 35.7308017, 'lng': 139.7028736},\n",
              "      'travel_mode': 'WALKING'},\n",
              "     {'distance': {'text': '0.1 km', 'value': 108},\n",
              "      'duration': {'text': '1分', 'value': 80},\n",
              "      'end_location': {'lat': 35.7314063, 'lng': 139.7081321},\n",
              "      'html_instructions': '<b>右折</b>して<b>都道441号</b>に入る<div style=\"font-size:0.9em\">KANDAYA（右側）を通過する</div>',\n",
              "      'maneuver': 'turn-right',\n",
              "      'polyline': {'points': '{yayEopusY@GFc@BKBYBK?S@ED_@Lc@DM'},\n",
              "      'start_location': {'lat': 35.7316566, 'lng': 139.7071162},\n",
              "      'travel_mode': 'WALKING'},\n",
              "     {'distance': {'text': '18 m', 'value': 18},\n",
              "      'duration': {'text': '1分', 'value': 13},\n",
              "      'end_location': {'lat': 35.7312546, 'lng': 139.7083355},\n",
              "      'html_instructions': '<b>右折</b>して<b>劇場通り</b>/<wbr/><b>都道441号</b>に入る',\n",
              "      'maneuver': 'turn-right',\n",
              "      'polyline': {'points': 'ixayEyvusYN@Nk@'},\n",
              "      'start_location': {'lat': 35.7314063, 'lng': 139.7081321},\n",
              "      'travel_mode': 'WALKING'},\n",
              "     {'distance': {'text': '18 m', 'value': 18},\n",
              "      'duration': {'text': '1分', 'value': 23},\n",
              "      'end_location': {'lat': 35.7313127, 'lng': 139.7083918},\n",
              "      'html_instructions': '<b>西口五差路（交差点）</b> で<b>左</b>手前方向に曲がり、そのまま <b>劇場通り</b>/<wbr/><b>都道441号</b> を進む',\n",
              "      'maneuver': 'turn-sharp-left',\n",
              "      'polyline': {'points': 'iwayEcxusYKI'},\n",
              "      'start_location': {'lat': 35.7312546, 'lng': 139.7083355},\n",
              "      'travel_mode': 'WALKING'},\n",
              "     {'distance': {'text': '0.1 km', 'value': 105},\n",
              "      'duration': {'text': '1分', 'value': 77},\n",
              "      'end_location': {'lat': 35.7308736, 'lng': 139.709301},\n",
              "      'html_instructions': '<b>西口五差路（交差点）</b> を<b>右折</b>して <b>都道441号</b> に入る<div style=\"font-size:0.9em\">auショップ 池袋西口駅前 [ UQ モバイル取扱店]を通過する（36&nbsp;m 先、左手）</div>',\n",
              "      'maneuver': 'turn-right',\n",
              "      'polyline': {'points': 'uwayEmxusYFUHQHUL]FQFK\\\\{@'},\n",
              "      'start_location': {'lat': 35.7313127, 'lng': 139.7083918},\n",
              "      'travel_mode': 'WALKING'},\n",
              "     {'distance': {'text': '16 m', 'value': 16},\n",
              "      'duration': {'text': '1分', 'value': 11},\n",
              "      'end_location': {'lat': 35.7308518, 'lng': 139.70937},\n",
              "      'html_instructions': '左側のワイモバイル池袋西口の先を<b>右折</b>する',\n",
              "      'maneuver': 'turn-right',\n",
              "      'polyline': {'points': '}tayEc~usYBM'},\n",
              "      'start_location': {'lat': 35.7308736, 'lng': 139.709301},\n",
              "      'travel_mode': 'WALKING'},\n",
              "     {'building_level': {'number': -1},\n",
              "      'distance': {'text': '0.3 km', 'value': 345},\n",
              "      'duration': {'text': '5分', 'value': 296},\n",
              "      'end_location': {'lat': 35.7299239, 'lng': 139.7129647},\n",
              "      'html_instructions': '350&nbsp;m 歩く',\n",
              "      'polyline': {'points': 'ytayEq~usYDKPw@FU?ACIBIj@kD@EpAqGF_@D_A?CA_@LU'},\n",
              "      'start_location': {'lat': 35.7308518, 'lng': 139.70937},\n",
              "      'travel_mode': 'WALKING'},\n",
              "     {'building_level': {'number': -1},\n",
              "      'distance': {'text': '17 m', 'value': 17},\n",
              "      'duration': {'text': '1分', 'value': 27},\n",
              "      'end_location': {'lat': 35.7298343, 'lng': 139.713114},\n",
              "      'html_instructions': '1 階までエスカレーターで<b>上る</b>',\n",
              "      'polyline': {'points': '_oayE_uvsYP]'},\n",
              "      'start_location': {'lat': 35.7299239, 'lng': 139.7129647},\n",
              "      'travel_mode': 'WALKING'},\n",
              "     {'distance': {'text': '3 m', 'value': 3},\n",
              "      'duration': {'text': '1分', 'value': 2},\n",
              "      'end_location': {'lat': 35.7298193, 'lng': 139.7131437},\n",
              "      'html_instructions': '<b>南東</b>に進む',\n",
              "      'polyline': {'points': 'mnayE}uvsY@E'},\n",
              "      'start_location': {'lat': 35.7298343, 'lng': 139.713114},\n",
              "      'travel_mode': 'WALKING'},\n",
              "     {'distance': {'text': '9 m', 'value': 9},\n",
              "      'duration': {'text': '1分', 'value': 6},\n",
              "      'end_location': {'lat': 35.7298217, 'lng': 139.713151},\n",
              "      'html_instructions': '<b>右折</b>して <b>グリーン大通り</b> に向かう',\n",
              "      'maneuver': 'turn-right',\n",
              "      'polyline': {'points': 'knayEcvvsYJHKK'},\n",
              "      'start_location': {'lat': 35.7298193, 'lng': 139.7131437},\n",
              "      'travel_mode': 'WALKING'},\n",
              "     {'distance': {'text': '0.2 km', 'value': 224},\n",
              "      'duration': {'text': '3分', 'value': 166},\n",
              "      'end_location': {'lat': 35.7285977, 'lng': 139.7150645},\n",
              "      'html_instructions': '<b>左折</b>して<b>グリーン大通り</b>に入る<div style=\"font-size:0.9em\">宮城ふるさとプラザを通過する（47&nbsp;m 先、左手）</div>',\n",
              "      'maneuver': 'turn-left',\n",
              "      'polyline': {'points': 'knayEevvsY`@u@DGFMBEl@kAXa@HODGl@gAFMp@oA'},\n",
              "      'start_location': {'lat': 35.7298217, 'lng': 139.713151},\n",
              "      'travel_mode': 'WALKING'},\n",
              "     {'distance': {'text': '0.1 km', 'value': 100},\n",
              "      'duration': {'text': '1分', 'value': 73},\n",
              "      'end_location': {'lat': 35.7293924, 'lng': 139.7153933},\n",
              "      'html_instructions': '左側のHato Busの先を<b>左折</b>する<div style=\"font-size:0.9em\">EAST VILLAGEを通過する（68&nbsp;m 先、左手）</div>',\n",
              "      'maneuver': 'turn-left',\n",
              "      'polyline': {'points': 'wfayEcbwsYCC[YYUCCM?I?I?s@?IA?G'},\n",
              "      'start_location': {'lat': 35.7285977, 'lng': 139.7150645},\n",
              "      'travel_mode': 'WALKING'},\n",
              "     {'distance': {'text': '0.3 km', 'value': 317},\n",
              "      'duration': {'text': '4分', 'value': 249},\n",
              "      'end_location': {'lat': 35.7286774, 'lng': 139.7186351},\n",
              "      'html_instructions': '叙庵池袋サンシャイン６０通り店の手前で<b>右折</b>する<div style=\"font-size:0.9em\">セブン-イレブン 東池袋１丁目店を通過する（54&nbsp;m 先、右手）</div>',\n",
              "      'maneuver': 'turn-right',\n",
              "      'polyline': {'points': 'ukayEedwsYCqCBOAa@?a@?Y@AEY?W@W@UPm@Ri@N]Re@Pc@Ng@DKN]DEFO'},\n",
              "      'start_location': {'lat': 35.7293924, 'lng': 139.7153933},\n",
              "      'travel_mode': 'WALKING'},\n",
              "     {'distance': {'text': '18 m', 'value': 18},\n",
              "      'duration': {'text': '1分', 'value': 14},\n",
              "      'end_location': {'lat': 35.7288079, 'lng': 139.7187535},\n",
              "      'html_instructions': '<b>左折</b>する',\n",
              "      'maneuver': 'turn-left',\n",
              "      'polyline': {'points': 'ggayEoxwsYMKAAIG'},\n",
              "      'start_location': {'lat': 35.7286774, 'lng': 139.7186351},\n",
              "      'travel_mode': 'WALKING'},\n",
              "     {'building_level': {'number': 0},\n",
              "      'distance': {'text': '91 m', 'value': 91},\n",
              "      'duration': {'text': '1分', 'value': 74},\n",
              "      'end_location': {'lat': 35.7289781, 'lng': 139.7195256},\n",
              "      'html_instructions': '91&nbsp;m 歩く',\n",
              "      'polyline': {'points': 'ahayEeywsYDMMSu@y@Z_A'},\n",
              "      'start_location': {'lat': 35.7288079, 'lng': 139.7187535},\n",
              "      'travel_mode': 'WALKING'}],\n",
              "    'traffic_speed_entry': [],\n",
              "    'via_waypoint': []}],\n",
              "  'overview_polyline': {'points': 'otayE}utsY_AyNSkBq@_DMg@KYKIHk@Fe@B_@Fe@Rq@N@Nk@KIFURg@L]N]`@iA^yACKn@uDrAwGF_@D_AAc@^s@@EJHKKf@}@JSfAmBdAmBp@oACCu@o@QCS?}@ACyC@q@?{@C[@o@@UPm@b@gAz@}BTc@FOMKKIDMMSu@y@Z_A'},\n",
              "  'summary': '立教通り',\n",
              "  'warnings': ['徒歩ルートの表示は Beta 版です。 注意 – このルートには歩道のない道が含まれている可能性があります。'],\n",
              "  'waypoint_order': []}]"
            ]
          },
          "metadata": {},
          "execution_count": 7
        }
      ]
    },
    {
      "cell_type": "code",
      "source": [
        "# 所要時間\n",
        "directions_result[0]['legs'][0]['duration']"
      ],
      "metadata": {
        "colab": {
          "base_uri": "https://localhost:8080/"
        },
        "id": "54ZTFs_Li-ZM",
        "outputId": "bc1048fa-07ca-478f-fbc1-bf3e6c9821a6"
      },
      "execution_count": 13,
      "outputs": [
        {
          "output_type": "execute_result",
          "data": {
            "text/plain": [
              "{'text': '24分', 'value': 1410}"
            ]
          },
          "metadata": {},
          "execution_count": 13
        }
      ]
    },
    {
      "cell_type": "code",
      "source": [
        ""
      ],
      "metadata": {
        "id": "0laTytz1jPq7"
      },
      "execution_count": null,
      "outputs": []
    }
  ]
}